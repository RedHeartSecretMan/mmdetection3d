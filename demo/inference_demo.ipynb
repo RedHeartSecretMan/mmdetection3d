{
 "cells": [
  {
   "cell_type": "code",
   "execution_count": 1,
   "metadata": {
    "pycharm": {
     "is_executing": false
    }
   },
   "outputs": [],
   "source": [
    "from mmdet3d.apis import LidarDet3DInferencer"
   ]
  },
  {
   "cell_type": "code",
   "execution_count": 2,
   "metadata": {},
   "outputs": [
    {
     "name": "stderr",
     "output_type": "stream",
     "text": [
      "/workspace/mmdetection3d/mmdet3d/models/dense_heads/anchor3d_head.py:94: UserWarning: dir_offset and dir_limit_offset will be depressed and be incorporated into box coder in the future\n",
      "  warnings.warn(\n",
      "Downloading: \"https://download.openmmlab.com/mmdetection3d/v1.0.0_models/pointpillars/hv_pointpillars_secfpn_6x8_160e_kitti-3d-3class/hv_pointpillars_secfpn_6x8_160e_kitti-3d-3class_20220301_150306-37dc2420.pth\" to /root/.cache/torch/hub/checkpoints/hv_pointpillars_secfpn_6x8_160e_kitti-3d-3class_20220301_150306-37dc2420.pth\n"
     ]
    },
    {
     "name": "stdout",
     "output_type": "stream",
     "text": [
      "Loads checkpoint by http backend from path: https://download.openmmlab.com/mmdetection3d/v1.0.0_models/pointpillars/hv_pointpillars_secfpn_6x8_160e_kitti-3d-3class/hv_pointpillars_secfpn_6x8_160e_kitti-3d-3class_20220301_150306-37dc2420.pth\n",
      "01/23 14:28:25 - mmengine - \u001b[5m\u001b[4m\u001b[33mWARNING\u001b[0m - Failed to search registry with scope \"mmdet3d\" in the \"function\" registry tree. As a workaround, the current \"function\" registry in \"mmengine\" is used to build instance. This may cause unexpected failure when running the built modules. Please check whether \"mmdet3d\" is a correct scope, or whether the registry is initialized.\n",
      "Jupyter environment detected. Enabling Open3D WebVisualizer.\n",
      "[Open3D INFO] WebRTC GUI backend enabled.\n",
      "[Open3D INFO] WebRTCWindowSystem: HTTP handshake server disabled.\n"
     ]
    },
    {
     "name": "stderr",
     "output_type": "stream",
     "text": [
      "/opt/conda/lib/python3.10/site-packages/mmengine/visualization/visualizer.py:196: UserWarning: Failed to add <class 'mmengine.visualization.vis_backend.LocalVisBackend'>, please provide the `save_dir` argument.\n",
      "  warnings.warn(f'Failed to add {vis_backend.__class__}, '\n"
     ]
    }
   ],
   "source": [
    "# initialize inferencer\n",
    "inferencer = LidarDet3DInferencer('pointpillars_kitti-3class')"
   ]
  },
  {
   "cell_type": "code",
   "execution_count": null,
   "metadata": {
    "pycharm": {
     "is_executing": false
    }
   },
   "outputs": [],
   "source": [
    "# inference\n",
    "inputs = dict(points='./data/kitti/000008.bin')\n",
    "inferencer(inputs, show=True)"
   ]
  },
  {
   "cell_type": "code",
   "execution_count": 16,
   "metadata": {},
   "outputs": [
    {
     "name": "stderr",
     "output_type": "stream",
     "text": [
      "2620.99s - pydevd: Sending message related to process being replaced timed-out after 5 seconds\n"
     ]
    },
    {
     "name": "stdout",
     "output_type": "stream",
     "text": [
      "processing pgd_r101-caffe_fpn_head-gn_4xb3-4x_kitti-mono3d...\n",
      "\u001b[2Kdownloading \u001b[91m━━━━━━━━━━━━━━━━━━━━━━━━━\u001b[0m\u001b[91m╸\u001b[0m\u001b[90m━━━━\u001b[0m \u001b[32m181.2/209.9 MiB\u001b[0m \u001b[31m10.4 MB/s\u001b[0m eta \u001b[36m0:00:03\u001b[0m\n",
      "\u001b[?25h\u001b[32mSuccessfully downloaded pgd_r101_caffe_fpn_gn-head_3x4_4x_kitti-mono3d_20211022_102608-8a97533b.pth to /workspace/mmdetection3d/demo/checkpoints\u001b[0m\n",
      "\u001b[32mSuccessfully dumped pgd_r101-caffe_fpn_head-gn_4xb3-4x_kitti-mono3d.py to /workspace/mmdetection3d/demo/checkpoints\u001b[0m\n"
     ]
    }
   ],
   "source": [
    "!mim download mmdet3d --config pgd_r101-caffe_fpn_head-gn_4xb3-4x_kitti-mono3d --dest checkpoints"
   ]
  },
  {
   "cell_type": "code",
   "execution_count": 1,
   "metadata": {},
   "outputs": [
    {
     "name": "stdout",
     "output_type": "stream",
     "text": [
      "usage: mono_det_demo.py [-h] [--device DEVICE] [--cam-type CAM_TYPE]\n",
      "                        [--pred-score-thr PRED_SCORE_THR] [--out-dir OUT_DIR]\n",
      "                        [--show] [--wait-time WAIT_TIME] [--no-save-vis]\n",
      "                        [--no-save-pred] [--print-result]\n",
      "                        img infos model weights\n",
      "mono_det_demo.py: error: unrecognized arguments: --score-thr 8\n"
     ]
    }
   ],
   "source": [
    "!python mono_det_demo.py \\\n",
    "    data/kitti/000008.png \\\n",
    "    data/kitti/000008.pkl \\\n",
    "    checkpoints/pgd_r101-caffe_fpn_head-gn_4xb3-4x_kitti-mono3d.py \\\n",
    "    checkpoints/pgd_r101_caffe_fpn_gn-head_3x4_4x_kitti-mono3d_20211022_102608-8a97533b.pth \\\n",
    "    --show --cam-type CAM2 --score-thr 8"
   ]
  },
  {
   "cell_type": "code",
   "execution_count": 6,
   "metadata": {},
   "outputs": [
    {
     "name": "stdout",
     "output_type": "stream",
     "text": [
      "processing fcos3d_r101-caffe-dcn_fpn_head-gn_8xb2-1x_nus-mono3d_finetune...\n",
      "\u001b[2Kdownloading \u001b[90m━━━━━━━━━━━━━━━━━━━━━━━━━━━━━━━\u001b[0m \u001b[32m210.2/210.2 MiB\u001b[0m \u001b[31m9.9 MB/s\u001b[0m eta \u001b[36m0:00:00\u001b[0m00:01\u001b[0m00:01\u001b[0m\n",
      "\u001b[?25h\u001b[32mSuccessfully downloaded fcos3d_r101_caffe_fpn_gn-head_dcn_2x8_1x_nus-mono3d_finetune_20210717_095645-8d806dc2.pth to /workspace/mmdetection3d/demo/checkpoints\u001b[0m\n",
      "\u001b[32mSuccessfully dumped fcos3d_r101-caffe-dcn_fpn_head-gn_8xb2-1x_nus-mono3d_finetune.py to /workspace/mmdetection3d/demo/checkpoints\u001b[0m\n"
     ]
    }
   ],
   "source": [
    "!mim download mmdet3d --config fcos3d_r101-caffe-dcn_fpn_head-gn_8xb2-1x_nus-mono3d_finetune --dest checkpoints"
   ]
  },
  {
   "cell_type": "code",
   "execution_count": null,
   "metadata": {},
   "outputs": [],
   "source": [
    "from mmdet3d.apis import MonoDet3DInferencer\n",
    "\n",
    "init_args = {'model': 'checkpoints/fcos3d_r101-caffe-dcn_fpn_head-gn_8xb2-1x_nus-mono3d_finetune.py', 'weights': 'checkpoints/fcos3d_r101_caffe_fpn_gn-head_dcn_2x8_1x_nus-mono3d_finetune_20210717_095645-8d806dc2.pth', 'device': 'cuda:0'}\n",
    "call_args = {'cam_type': 'CAM_FRONT', 'pred_score_thr': 0.3, 'out_dir': 'outputs', 'show': True, 'wait_time': -1, 'no_save_vis': False, 'no_save_pred': False, 'print_result': False, 'inputs': {'img': 'data/nuscenes/n015-2018-07-24-11-22-45+0800__CAM_FRONT__1532402927612460.jpg', 'infos': 'data/nuscenes/n015-2018-07-24-11-22-45+0800.pkl'}}\n",
    "inferencer = MonoDet3DInferencer(**init_args)\n",
    "inferencer(**call_args)"
   ]
  },
  {
   "cell_type": "code",
   "execution_count": 4,
   "metadata": {},
   "outputs": [
    {
     "name": "stdout",
     "output_type": "stream",
     "text": [
      "Loads checkpoint by local backend from path: checkpoints/fcos3d_r101_caffe_fpn_gn-head_dcn_2x8_1x_nus-mono3d_finetune_20210717_095645-8d806dc2.pth\n"
     ]
    }
   ],
   "source": [
    "from mmdet3d.apis import init_model\n",
    "\n",
    "config_file = \"checkpoints/fcos3d_r101-caffe-dcn_fpn_head-gn_8xb2-1x_nus-mono3d_finetune.py\"\n",
    "checkpoint_file = \"checkpoints/fcos3d_r101_caffe_fpn_gn-head_dcn_2x8_1x_nus-mono3d_finetune_20210717_095645-8d806dc2.pth\"\n",
    "\n",
    "model = init_model(config_file, checkpoint_file, device='cuda:0')"
   ]
  },
  {
   "cell_type": "code",
   "execution_count": 5,
   "metadata": {},
   "outputs": [],
   "source": [
    "from mmdet3d.apis import inference_mono_3d_detector\n",
    "\n",
    "imgs = \"data/nuscenes/n015-2018-07-24-11-22-45+0800__CAM_FRONT__1532402927612460.jpg\"\n",
    "ann_file = \"data/nuscenes/n015-2018-07-24-11-22-45+0800.pkl\"\n",
    "cam_type = \"CAM_FRONT\"\n",
    "result = inference_mono_3d_detector(model, imgs=imgs, ann_file=ann_file, cam_type=cam_type)"
   ]
  },
  {
   "cell_type": "code",
   "execution_count": null,
   "metadata": {},
   "outputs": [],
   "source": [
    "# error: KeyError: 'CAM2'\n",
    "!python mono_det_demo.py \\\n",
    "    data/nuscenes/n015-2018-07-24-11-22-45+0800__CAM_FRONT__1532402927612460.jpg \\\n",
    "    data/nuscenes/n015-2018-07-24-11-22-45+0800.pkl \\\n",
    "    checkpoints/fcos3d_r101-caffe-dcn_fpn_head-gn_8xb2-1x_nus-mono3d_finetune.py \\\n",
    "    checkpoints/fcos3d_r101_caffe_fpn_gn-head_dcn_2x8_1x_nus-mono3d_finetune_20210717_095645-8d806dc2.pth \\\n",
    "    --show --cam-type CAM_FRONT"
   ]
  }
 ],
 "metadata": {
  "interpreter": {
   "hash": "a0c343fece975dd89087e8c2194dd4d3db28d7000f1b32ed9ed9d584dd54dbbe"
  },
  "kernelspec": {
   "display_name": "Python 3 (ipykernel)",
   "language": "python",
   "name": "python3"
  },
  "language_info": {
   "codemirror_mode": {
    "name": "ipython",
    "version": 3
   },
   "file_extension": ".py",
   "mimetype": "text/x-python",
   "name": "python",
   "nbconvert_exporter": "python",
   "pygments_lexer": "ipython3",
   "version": "3.10.13"
  },
  "pycharm": {
   "stem_cell": {
    "cell_type": "raw",
    "metadata": {
     "collapsed": false
    },
    "source": []
   }
  }
 },
 "nbformat": 4,
 "nbformat_minor": 4
}
